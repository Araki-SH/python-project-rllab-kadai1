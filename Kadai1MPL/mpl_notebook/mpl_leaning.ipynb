{
 "cells": [
  {
   "cell_type": "markdown",
   "id": "70800b37-3312-4efa-a5ed-aa0ed208c27a",
   "metadata": {},
   "source": [
    "# MPL_Learning"
   ]
  },
  {
   "cell_type": "markdown",
   "id": "3f4b8434-63c9-4521-8ef2-2bb1d0cd0bf7",
   "metadata": {},
   "source": [
    "## Import"
   ]
  },
  {
   "cell_type": "code",
   "execution_count": 1,
   "id": "0671ebfd-534b-45d3-b025-35012c8e0cb6",
   "metadata": {},
   "outputs": [],
   "source": [
    "import torch \n",
    "import torch.nn as nn\n",
    "import torch.optim as optim\n",
    "import torch.nn.functional as F\n",
    "import torchvision.datasets as dsets\n",
    "import torchvision.transforms as transforms\n",
    "import numpy as np\n",
    "import matplotlib.pyplot as plt"
   ]
  },
  {
   "cell_type": "markdown",
   "id": "04ef38f6-0b7e-435d-8de1-b7935207d55e",
   "metadata": {},
   "source": [
    "## Model set up "
   ]
  },
  {
   "cell_type": "code",
   "execution_count": 2,
   "id": "a1be30d1-3a3f-49b0-90e8-c1bf3cdf2dab",
   "metadata": {},
   "outputs": [],
   "source": [
    "class Mpl(nn.Module):\n",
    "    def __init__(self):\n",
    "        super().__init__()\n",
    "        self.linear1 = nn.Linear(2,32)\n",
    "        self.linear2 = nn.Linear(32,16)\n",
    "        self.linear3 = nn.Linear(16,1)\n",
    "\n",
    "    def forward(self,x):\n",
    "        x = nn.functional.relu(self.linear1(x))\n",
    "        x = nn.functional.relu(self.linear2(x))\n",
    "        x = self.linear3(x)\n",
    "        return x"
   ]
  },
  {
   "cell_type": "markdown",
   "id": "8eef6d88-5ad4-4927-aaad-5c87bfdf2da5",
   "metadata": {},
   "source": [
    "## Train function"
   ]
  },
  {
   "cell_type": "code",
   "execution_count": 3,
   "id": "8a546d38-71b9-43af-981f-087917df66f8",
   "metadata": {},
   "outputs": [
    {
     "data": {
      "text/plain": [
       "\"\\ndef train(model,optimizer,E,iteration,x,t):\\n    losses = []\\n    for i in range(iteration):\\n        optimizer.zero_grad()\\n        t_pred = model(x)\\n        loss = E(t_pred.reshape(t.shape),t)\\n        loss.backward()\\n        optimizer.step()\\n        losses.append(loss.item())\\n        if i % 100 == 0:\\n            print('epoch=',i+1,'loss=',loss)\\n    return model, losses\\n\""
      ]
     },
     "execution_count": 3,
     "metadata": {},
     "output_type": "execute_result"
    }
   ],
   "source": [
    "'''\n",
    "def train(model,optimizer,E,iteration,x,t):\n",
    "    losses = []\n",
    "    for i in range(iteration):\n",
    "        optimizer.zero_grad()\n",
    "        t_pred = model(x)\n",
    "        loss = E(t_pred.reshape(t.shape),t)\n",
    "        loss.backward()\n",
    "        optimizer.step()\n",
    "        losses.append(loss.item())\n",
    "        if i % 100 == 0:\n",
    "            print('epoch=',i+1,'loss=',loss)\n",
    "    return model, losses\n",
    "'''"
   ]
  },
  {
   "cell_type": "markdown",
   "id": "7726e882-543a-4cc3-a87b-1e8154e001f5",
   "metadata": {},
   "source": [
    "## Test function"
   ]
  },
  {
   "cell_type": "code",
   "execution_count": 4,
   "id": "b9322bcb-27f6-4882-af1c-570d5e3425e9",
   "metadata": {},
   "outputs": [],
   "source": [
    "def test(model,x):\n",
    "    t_pred = model(x).data.numpy().T[0]\n",
    "    return t_pred"
   ]
  },
  {
   "cell_type": "markdown",
   "id": "eac8a4b7-a242-4779-9545-35cbe6a17034",
   "metadata": {},
   "source": [
    "## Optimizer and Loss function"
   ]
  },
  {
   "cell_type": "code",
   "execution_count": 5,
   "id": "9b7a7a44-caf9-4688-b894-a33e12de46c5",
   "metadata": {},
   "outputs": [],
   "source": [
    "def cost_function(t_pred,t):\n",
    "    return 1/2*torch.mean(torch.pow(t_pred-t,2))"
   ]
  },
  {
   "cell_type": "code",
   "execution_count": 6,
   "id": "83c52c04-44fd-4c0b-8a5e-58cd626ac403",
   "metadata": {},
   "outputs": [],
   "source": [
    "def train(model,optimizer,iteration,x,t):\n",
    "    losses = []\n",
    "    for i in range(iteration):\n",
    "        optimizer.zero_grad()\n",
    "        t_pred = model(x)\n",
    "        loss = cost_function(t_pred.reshape(t.shape),t)\n",
    "        loss.backward()\n",
    "        optimizer.step()\n",
    "        losses.append(loss.item())\n",
    "        if i % 100 == 0:\n",
    "            print('epoch=',i+1,'loss=',loss)\n",
    "    return model, losses"
   ]
  },
  {
   "cell_type": "code",
   "execution_count": 7,
   "id": "6636e2df-0e77-45c4-b17d-3dffff2feff9",
   "metadata": {},
   "outputs": [],
   "source": [
    "net = Mpl()\n",
    "optimizer = optim.RMSprop(net.parameters(), lr=0.01)\n",
    "E = nn.MSELoss()"
   ]
  },
  {
   "cell_type": "markdown",
   "id": "71bc1f9b-8faf-4e3b-beb4-19921245673b",
   "metadata": {},
   "source": [
    "## Train data"
   ]
  },
  {
   "cell_type": "code",
   "execution_count": 8,
   "id": "8db653a5-f674-459c-994c-925d05669d72",
   "metadata": {},
   "outputs": [],
   "source": [
    "x = np.random.uniform(0,10,100)\n",
    "t = np.random.uniform(0.9,1.1,100) * np.sin(2*np.pi*0.1*x)\n",
    "x = torch.from_numpy(x.astype(np.float32)).float()\n",
    "t = torch.from_numpy(t.astype(np.float32)).float()\n",
    "X = torch.stack([torch.ones(100), x],1)"
   ]
  },
  {
   "cell_type": "markdown",
   "id": "e0ac8e56-0da4-42ef-a87c-9fffb222cfc9",
   "metadata": {},
   "source": [
    "## Test data"
   ]
  },
  {
   "cell_type": "code",
   "execution_count": 9,
   "id": "5a9f6f1e-f3a4-48fb-8244-4bfd6ea506d9",
   "metadata": {},
   "outputs": [],
   "source": [
    "x_test = np.linspace(-5,15,60)\n",
    "x_test = torch.from_numpy(x_test.astype(np.float32)).float()\n",
    "X_test = torch.stack([torch.ones(60),x_test],1)"
   ]
  },
  {
   "cell_type": "markdown",
   "id": "7d873043-8bfb-4865-841a-b54f3284b8fb",
   "metadata": {},
   "source": [
    "## Traning"
   ]
  },
  {
   "cell_type": "code",
   "execution_count": 10,
   "id": "67d597b2-0f74-41f6-841f-c6c412905fcd",
   "metadata": {},
   "outputs": [
    {
     "name": "stdout",
     "output_type": "stream",
     "text": [
      "epoch= 1 loss= tensor(0.1853, grad_fn=<MulBackward0>)\n",
      "epoch= 101 loss= tensor(0.0370, grad_fn=<MulBackward0>)\n",
      "epoch= 201 loss= tensor(0.0372, grad_fn=<MulBackward0>)\n",
      "epoch= 301 loss= tensor(0.0374, grad_fn=<MulBackward0>)\n",
      "epoch= 401 loss= tensor(0.0357, grad_fn=<MulBackward0>)\n",
      "epoch= 501 loss= tensor(0.0323, grad_fn=<MulBackward0>)\n",
      "epoch= 601 loss= tensor(0.0174, grad_fn=<MulBackward0>)\n",
      "epoch= 701 loss= tensor(0.0175, grad_fn=<MulBackward0>)\n",
      "epoch= 801 loss= tensor(0.0165, grad_fn=<MulBackward0>)\n",
      "epoch= 901 loss= tensor(0.0115, grad_fn=<MulBackward0>)\n"
     ]
    }
   ],
   "source": [
    "#net, losses = train(model=net,optimizer=optimizer,E=E,iteration=1000,x=X,t=t)\n",
    "net, losses = train(model=net,optimizer=optimizer,iteration=1000,x=X,t=t)"
   ]
  },
  {
   "cell_type": "markdown",
   "id": "e13acca0-9348-4c27-86c4-ceed90fa1642",
   "metadata": {},
   "source": [
    "## Test"
   ]
  },
  {
   "cell_type": "code",
   "execution_count": 11,
   "id": "2eb2fdfb-c9e3-4594-aeb8-4cf82d05e484",
   "metadata": {},
   "outputs": [],
   "source": [
    "t_pred = test(net, X_test)"
   ]
  },
  {
   "cell_type": "markdown",
   "id": "530f3407-d332-4df3-8fd1-28b5436c2427",
   "metadata": {},
   "source": [
    "## Graph"
   ]
  },
  {
   "cell_type": "code",
   "execution_count": 12,
   "id": "02a1c16b-d5a1-4c81-acfe-3c135729ebf9",
   "metadata": {},
   "outputs": [],
   "source": [
    "def graph(x, y, x_new, t_pred, losses):\n",
    "    # ここからグラフ描画-------------------------------------------------\n",
    "    # フォントの種類とサイズを設定する。\n",
    "    plt.rcParams['font.size'] = 14\n",
    "    plt.rcParams['font.family'] = 'Times New Roman'\n",
    " \n",
    "    # 目盛を内側にする。\n",
    "    plt.rcParams['xtick.direction'] = 'in'\n",
    "    plt.rcParams['ytick.direction'] = 'in'\n",
    " \n",
    "    # グラフの上下左右に目盛線を付ける。\n",
    "    fig = plt.figure(figsize=(9, 4))\n",
    "    ax1 = fig.add_subplot(121)\n",
    "    ax1.yaxis.set_ticks_position('both')\n",
    "    ax1.xaxis.set_ticks_position('both')\n",
    "    ax2 = fig.add_subplot(122)\n",
    "    ax2.yaxis.set_ticks_position('both')\n",
    "    ax2.xaxis.set_ticks_position('both')\n",
    " \n",
    "    # 軸のラベルを設定する。\n",
    "    ax1.set_xlabel('x')\n",
    "    ax1.set_ylabel('y')\n",
    "    ax2.set_xlabel('Iteration')\n",
    "    ax2.set_ylabel('E')\n",
    " \n",
    "    # スケール設定\n",
    "    ax1.set_xlim(-5, 15)\n",
    "    ax1.set_ylim(-2, 2)\n",
    "    ax2.set_xlim(0, 5000)\n",
    "    ax2.set_ylim(0.001, 100)\n",
    "    ax2.set_yscale('log')\n",
    " \n",
    "    # データプロット\n",
    "    ax1.scatter(x, y, label='dataset')\n",
    "    ax1.plot(x_new, t_pred, color='red', label='PyTorch regression', marker=\"o\", markersize=3)\n",
    "    ax2.plot(np.arange(0, len(losses), 1), losses)\n",
    "    ax2.text(600, 20, 'Training Error=' + str(round(losses[len(losses)-1], 2)), fontsize=16)\n",
    "    ax2.text(600, 50, 'Iteration=' + str(round(len(losses), 1)), fontsize=16)\n",
    " \n",
    "    # グラフを表示する。\n",
    "    ax1.legend()\n",
    "    fig.tight_layout()\n",
    "    plt.show()\n",
    "    plt.close()\n",
    "    # -------------------------------------------------------------------"
   ]
  },
  {
   "cell_type": "code",
   "execution_count": 13,
   "id": "1d5485da-1461-411b-8f6d-cf7ccc856853",
   "metadata": {},
   "outputs": [
    {
     "name": "stderr",
     "output_type": "stream",
     "text": [
      "findfont: Font family ['Times New Roman'] not found. Falling back to DejaVu Sans.\n",
      "findfont: Font family ['Times New Roman'] not found. Falling back to DejaVu Sans.\n"
     ]
    },
    {
     "data": {
      "image/png": "[encoded data removed]",
      "text/plain": [
       "<Figure size 900x400 with 2 Axes>"
      ]
     },
     "metadata": {},
     "output_type": "display_data"
    }
   ],
   "source": [
    "graph(x,t,X_test.data.numpy().T[1],t_pred,losses)"
   ]
  },
  {
   "cell_type": "code",
   "execution_count": null,
   "id": "6bd9631c-1682-4632-9ed3-0fc6d65bd0b4",
   "metadata": {},
   "outputs": [],
   "source": []
  }
 ],
 "metadata": {
  "kernelspec": {
   "display_name": "Python 3 (ipykernel)",
   "language": "python",
   "name": "python3"
  },
  "language_info": {
   "codemirror_mode": {
    "name": "ipython",
    "version": 3
   },
   "file_extension": ".py",
   "mimetype": "text/x-python",
   "name": "python",
   "nbconvert_exporter": "python",
   "pygments_lexer": "ipython3",
   "version": "3.10.8"
  }
 },
 "nbformat": 4,
 "nbformat_minor": 5
}
