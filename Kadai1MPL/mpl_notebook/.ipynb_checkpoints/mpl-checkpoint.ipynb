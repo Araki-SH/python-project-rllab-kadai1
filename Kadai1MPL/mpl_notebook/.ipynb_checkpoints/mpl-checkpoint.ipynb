{
 "cells": [
  {
   "cell_type": "markdown",
   "id": "91f96bea-521a-45e0-ac3f-bc950e0fea55",
   "metadata": {},
   "source": [
    "# 課題１"
   ]
  },
  {
   "cell_type": "markdown",
   "id": "2016171c-a76c-425f-b869-8ab1f2f0febd",
   "metadata": {},
   "source": [
    "## 式を実装"
   ]
  },
  {
   "cell_type": "markdown",
   "id": "dfd9a3ae-6cc9-42f5-adbb-b021b1899997",
   "metadata": {},
   "source": [
    "### 必要なライブラリをインポート"
   ]
  },
  {
   "cell_type": "code",
   "execution_count": 2,
   "id": "2041fe7d-978a-4ef0-b67d-af42081b0b70",
   "metadata": {},
   "outputs": [],
   "source": [
    "import numpy as np\n",
    "import matplotlib.pyplot as plt\n",
    "import math"
   ]
  },
  {
   "cell_type": "markdown",
   "id": "39b653ee-512a-4236-8260-f72a756620e9",
   "metadata": {},
   "source": [
    "### パラメータの設定"
   ]
  },
  {
   "cell_type": "code",
   "execution_count": 3,
   "id": "ffc63c76-5a70-4cb9-bb72-2ee3133f8af8",
   "metadata": {},
   "outputs": [],
   "source": [
    "#parameter\n",
    "a_c = 6.25             #台車駆動系のパラメータ\n",
    "b_c = 4.36             #台車駆動系のパラメータ\n",
    "m_p = 1.07 * 10 ** -1  #振り子の質量[kg]\n",
    "l_p = 2.30 * 10 ** -1  #振り子の軸から重心までの長さ[m]\n",
    "L_p = 3.80 * 10 ** -1  #振り子の全長[m]\n",
    "J_p = 1.59 * 10 ** -3  #振り子の重心周りの慣性モーメント[kg m^2]\n",
    "mu_p = 2.35 * 10 ** -4 #振り子の粘性摩擦係数 [kg m^2/s]\n",
    "g = 9.81               #重力加速度[m/s^2]"
   ]
  },
  {
   "cell_type": "markdown",
   "id": "6f3c3073-0035-4cb7-8f4f-019b91293dea",
   "metadata": {},
   "source": [
    "### 式１　加速度を求める式"
   ]
  },
  {
   "cell_type": "code",
   "execution_count": 17,
   "id": "6227650e-4ffb-4380-a844-3f2752a8ada6",
   "metadata": {},
   "outputs": [
    {
     "data": {
      "text/plain": [
       "'\\ndef Calculate_ddz(dz, v):\\n    formula1(a_c,dz,b_c,v)\\n    a_c 台車駆動系のパラメータ\\n    dz  移動変位\\n    b_c 台車駆動系のパラメータ\\n    v    制御入力\\n    \\n    A = torch.tensor([[0.0,1.0],[0.0,a_c]])\\n    b = torch.tensor([[0.0],[b_c]])\\n    x = torch.tensor([[z],[dz]])\\n    u = torch.tensor([[v]])\\n    y = torch.mm(A,x) + b * u\\n\\n    #ddz = a_c * dz + b_c * v\\n    return y\\n'"
      ]
     },
     "execution_count": 17,
     "metadata": {},
     "output_type": "execute_result"
    }
   ],
   "source": [
    "'''\n",
    "def Calculate_ddz(dz, v):\n",
    "    formula1(a_c,dz,b_c,v)\n",
    "    a_c 台車駆動系のパラメータ\n",
    "    dz  移動変位\n",
    "    b_c 台車駆動系のパラメータ\n",
    "    v    制御入力\n",
    "    \n",
    "    A = torch.tensor([[0.0,1.0],[0.0,a_c]])\n",
    "    b = torch.tensor([[0.0],[b_c]])\n",
    "    x = torch.tensor([[z],[dz]])\n",
    "    u = torch.tensor([[v]])\n",
    "    y = torch.mm(A,x) + b * u\n",
    "\n",
    "    #ddz = a_c * dz + b_c * v\n",
    "    return y\n",
    "'''"
   ]
  },
  {
   "cell_type": "code",
   "execution_count": null,
   "id": "085a9e5c-458b-42ae-bfc5-e68cc9d3e1e9",
   "metadata": {},
   "outputs": [],
   "source": [
    "y = Calculate_ddz(dz, v)\n",
    "print(y)"
   ]
  },
  {
   "cell_type": "code",
   "execution_count": 20,
   "id": "a14aa11c-bbb3-44db-a895-e721686487cf",
   "metadata": {},
   "outputs": [],
   "source": [
    "def Calculate_ddz(dz, v):\n",
    "    ddz = a_c * dz + b_c * v\n",
    "    return ddz"
   ]
  },
  {
   "cell_type": "markdown",
   "id": "83e0b353-2eb6-445f-a8f1-af1bc8d53af1",
   "metadata": {},
   "source": [
    "### 式２　各加速度を求める指揮"
   ]
  },
  {
   "cell_type": "code",
   "execution_count": 101,
   "id": "01951a0d-edf2-4c03-85a9-b62dadb54a5f",
   "metadata": {},
   "outputs": [],
   "source": [
    "'''def formula2(q):\n",
    "    m_p * l_p * np.cos(q) * ddz + (J_p + m_p * m_p**2) * ddq = -mu_p * dq + m_p * g * l_p * np.sin(q)\n",
    "    return 0\n",
    "'''\n",
    "def Calculate_ddq(dq, q, ddz):\n",
    "  return (-mu_p * dq + m_p * g * l_p * np.sin(q) - m_p * l_p * np.cos(q) * ddz)/((J_p + m_p * l_p**2))"
   ]
  },
  {
   "cell_type": "markdown",
   "id": "18d3b48c-8f01-4222-98a7-0175aae1f6ac",
   "metadata": {},
   "source": [
    "## 2. データ収集　ランダムな初期値からランダムな制御入力"
   ]
  },
  {
   "cell_type": "code",
   "execution_count": null,
   "id": "8e1f9b13-107c-48bb-a416-cc01e1fb0799",
   "metadata": {},
   "outputs": [],
   "source": []
  },
  {
   "cell_type": "markdown",
   "id": "4494f3c5-9a46-47cf-b70f-8bcfdec7e707",
   "metadata": {},
   "source": [
    "## 3. データ収集　指定された初期状態からランダムな制御入力"
   ]
  },
  {
   "cell_type": "markdown",
   "id": "15ff9499-ff39-47a2-95d4-d0a92ce24afd",
   "metadata": {},
   "source": [
    "### 初期値"
   ]
  },
  {
   "cell_type": "code",
   "execution_count": 102,
   "id": "b0b0456c-e7c7-442d-a8e5-8036a0d44915",
   "metadata": {},
   "outputs": [],
   "source": [
    "#initial\n",
    "q0 = np.pi\n",
    "dq0 = 0\n",
    "z0 = 0\n",
    "dz0 = 0"
   ]
  },
  {
   "cell_type": "code",
   "execution_count": null,
   "id": "20c4e649-f4b9-4bd4-84d3-f0257c542e60",
   "metadata": {},
   "outputs": [],
   "source": []
  },
  {
   "cell_type": "markdown",
   "id": "0fa5f910-0903-4366-ae89-dce71c246389",
   "metadata": {},
   "source": [
    "##　４. MLPを訓練"
   ]
  },
  {
   "cell_type": "code",
   "execution_count": null,
   "id": "62b6deb0-751f-4a09-b36a-7005aaf2b0f5",
   "metadata": {},
   "outputs": [],
   "source": []
  },
  {
   "cell_type": "markdown",
   "id": "7ee6cf8f-bf8a-4523-85e5-a4a070fd6ca1",
   "metadata": {},
   "source": [
    "## 5. データ量とフィッティング精度"
   ]
  },
  {
   "cell_type": "code",
   "execution_count": null,
   "id": "9354654f-24b1-4f62-af06-380c2bf4472a",
   "metadata": {},
   "outputs": [],
   "source": []
  },
  {
   "cell_type": "markdown",
   "id": "27ba5eae-82d3-41cd-a7c7-8bc228778676",
   "metadata": {},
   "source": [
    "## 6. コスト関数の最小化する軌道周囲の予測精度"
   ]
  },
  {
   "cell_type": "markdown",
   "id": "984a7bc1-65a5-4a73-ba09-97e9931d792f",
   "metadata": {},
   "source": [
    "### コスト関数"
   ]
  },
  {
   "cell_type": "code",
   "execution_count": 103,
   "id": "ca2987d1-b3ab-41a4-9763-cf062d10e9dd",
   "metadata": {},
   "outputs": [],
   "source": [
    "def loss_cost(ddq,dq,q,ddz,dz):\n",
    "    return  10* dz**2 + 500*(-np.cos(q)+1)**2 + dz**2 + 15*dq**2\n",
    "    #20*dz*ddz + 1000*np.sin(q)*(-np.cos(q)+1) + 2*dz*ddz +30*dq*ddq"
   ]
  },
  {
   "cell_type": "markdown",
   "id": "237448ce-ac89-4291-b8c9-bbddf220ddc3",
   "metadata": {},
   "source": [
    "### 実行"
   ]
  },
  {
   "cell_type": "code",
   "execution_count": 104,
   "id": "035d7471-bc5b-401e-bea2-9e73af5c18df",
   "metadata": {},
   "outputs": [],
   "source": [
    "p = []\n",
    "angle_p = []\n",
    "input_s = []\n",
    "h = 0.02  #width\n",
    "t = np.arange(0,3,h)\n",
    "\n",
    "#variable\n",
    "q = q0     #angle\n",
    "dq = dq0  #angular velocity\n",
    "z = z0    #position\n",
    "dz = dz0  #velocity\n",
    "v=1 #External input\n",
    "for _ in t:\n",
    "  input_s.append(v)\n",
    "  ddz = Calculate_ddz(dz,v)\n",
    "  dz += ddz * h\n",
    "  z += dz * h\n",
    "  p.append(z)\n",
    "  #print(z)\n",
    "  #print(ddz)\n",
    "  ddq = Calculate_ddq(dz,dq,q)\n",
    "  dq += ddq * h\n",
    "  q += dq * h\n",
    "  v = 0\n",
    "  \"\"\"if q > np.pi or q < np.pi:\n",
    "    times = q // 2*np.pi\n",
    "    if q > np.pi:\n",
    "      q -= 2*np.pi * times\n",
    "    elif q < -np.pi:\n",
    "      q += 2*np.pi * times\n",
    " \"\"\"\n",
    "  angle_p.append(q)\n",
    "  #print(ddq)"
   ]
  },
  {
   "cell_type": "code",
   "execution_count": 105,
   "id": "373025fa-f7ae-4cf5-9b94-81f23aa5afc7",
   "metadata": {},
   "outputs": [
    {
     "data": {
      "image/png": "[encoded data removed]",
      "text/plain": [
       "<Figure size 640x480 with 1 Axes>"
      ]
     },
     "metadata": {},
     "output_type": "display_data"
    }
   ],
   "source": [
    "plt.plot(t,p)\n",
    "plt.plot(t,angle_p)\n",
    "#plt.plot(t,input_s)\n",
    "plt.show()"
   ]
  },
  {
   "cell_type": "code",
   "execution_count": null,
   "id": "dc943165-1f24-4c7c-860f-72f7e8ee4925",
   "metadata": {},
   "outputs": [],
   "source": []
  }
 ],
 "metadata": {
  "kernelspec": {
   "display_name": "Python 3 (ipykernel)",
   "language": "python",
   "name": "python3"
  },
  "language_info": {
   "codemirror_mode": {
    "name": "ipython",
    "version": 3
   },
   "file_extension": ".py",
   "mimetype": "text/x-python",
   "name": "python",
   "nbconvert_exporter": "python",
   "pygments_lexer": "ipython3",
   "version": "3.10.8"
  }
 },
 "nbformat": 4,
 "nbformat_minor": 5
}
